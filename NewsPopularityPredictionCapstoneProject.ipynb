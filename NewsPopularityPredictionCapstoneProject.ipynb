{
  "nbformat": 4,
  "nbformat_minor": 0,
  "metadata": {
    "colab": {
      "provenance": [],
      "authorship_tag": "ABX9TyPr1QAC66RPymOtO4j5ZHc6",
      "include_colab_link": true
    },
    "kernelspec": {
      "name": "python3",
      "display_name": "Python 3"
    },
    "language_info": {
      "name": "python"
    }
  },
  "cells": [
    {
      "cell_type": "markdown",
      "metadata": {
        "id": "view-in-github",
        "colab_type": "text"
      },
      "source": [
        "<a href=\"https://colab.research.google.com/github/sahoomrutyunjaya12345/NewsPopularityPrediction/blob/main/NewsPopularityPredictionCapstoneProject.ipynb\" target=\"_parent\"><img src=\"https://colab.research.google.com/assets/colab-badge.svg\" alt=\"Open In Colab\"/></a>"
      ]
    },
    {
      "cell_type": "markdown",
      "source": [
        "# Project Title: NewsPopularityPrediction"
      ],
      "metadata": {
        "id": "DtpZaJ6rp9Y1"
      }
    },
    {
      "cell_type": "code",
      "source": [],
      "metadata": {
        "id": "yIkHMOijqHNx"
      },
      "execution_count": null,
      "outputs": []
    }
  ]
}